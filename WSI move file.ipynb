{
 "cells": [
  {
   "cell_type": "code",
   "execution_count": 8,
   "id": "0f83a86a",
   "metadata": {},
   "outputs": [],
   "source": [
    "import os\n",
    "import shutil"
   ]
  },
  {
   "cell_type": "code",
   "execution_count": 39,
   "id": "9cea65fb",
   "metadata": {},
   "outputs": [],
   "source": [
    "src_path = r\"C:\\Users\\IA\\Documents\\R\\imagens\\GDCdata\\TCGA-STAD\\harmonized\\Biospecimen\\Slide_Image\"\n",
    "dst_path = r\"C:\\Users\\IA\\Pictures\\Datasets\\TCGA\\WSI\\Carcinoma diffuse\\GS\\Gastric Antrum\\\""
   ]
  },
  {
   "cell_type": "code",
   "execution_count": 40,
   "id": "96d354af",
   "metadata": {},
   "outputs": [],
   "source": [
    "list_folders = os.listdir(src_path)"
   ]
  },
  {
   "cell_type": "code",
   "execution_count": 41,
   "id": "3d25328b",
   "metadata": {},
   "outputs": [
    {
     "name": "stdout",
     "output_type": "stream",
     "text": [
      "C:\\Users\\IA\\Pictures\\Datasets\\TCGA\\WSI\\Carcinoma diffuse\\GS\\Gastric AntrumTCGA-CD-8534-01Z-00-DX1.54F0CB0F-5A93-4382-A507-2DEFDBBE05F5.svs\n",
      "C:\\Users\\IA\\Pictures\\Datasets\\TCGA\\WSI\\Carcinoma diffuse\\GS\\Gastric AntrumTCGA-FP-8209-01Z-00-DX1.a5e13081-1631-44d4-8d6a-c229a22c2311.svs\n",
      "C:\\Users\\IA\\Pictures\\Datasets\\TCGA\\WSI\\Carcinoma diffuse\\GS\\Gastric AntrumTCGA-FP-8210-01Z-00-DX1.0ef0fd3f-5968-48ce-9e69-eaae83c29004.svs\n",
      "C:\\Users\\IA\\Pictures\\Datasets\\TCGA\\WSI\\Carcinoma diffuse\\GS\\Gastric AntrumTCGA-MX-A5UG-01Z-00-DX1.DEA1C553-B7E9-4663-A02B-51C31411C7C3.svs\n",
      "C:\\Users\\IA\\Pictures\\Datasets\\TCGA\\WSI\\Carcinoma diffuse\\GS\\Gastric AntrumTCGA-CG-4474-01Z-00-DX1.b98d7365-75b1-4c90-80e0-fab8b354f411.svs\n"
     ]
    }
   ],
   "source": [
    "for folder in list_folders:\n",
    "    file_path = os.path.join(src_path, folder)\n",
    "    file_name = os.listdir(file_path)[0]\n",
    "    print(dst_path + file_name)\n",
    "    shutil.move(file_path +'\\\\'+ file_name, dst_path + file_name)"
   ]
  },
  {
   "cell_type": "code",
   "execution_count": null,
   "id": "f8e4d8ba",
   "metadata": {},
   "outputs": [],
   "source": []
  }
 ],
 "metadata": {
  "kernelspec": {
   "display_name": "Python 3 (ipykernel)",
   "language": "python",
   "name": "python3"
  },
  "language_info": {
   "codemirror_mode": {
    "name": "ipython",
    "version": 3
   },
   "file_extension": ".py",
   "mimetype": "text/x-python",
   "name": "python",
   "nbconvert_exporter": "python",
   "pygments_lexer": "ipython3",
   "version": "3.9.13"
  }
 },
 "nbformat": 4,
 "nbformat_minor": 5
}
