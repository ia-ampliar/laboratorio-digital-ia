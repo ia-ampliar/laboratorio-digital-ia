{
 "cells": [
  {
   "cell_type": "markdown",
   "id": "ca8b12eb",
   "metadata": {},
   "source": [
    "# Automação para baixar máscaras do Quick Annotator\n",
    "\n",
    "Uma vez que o modelo de detecção do **Quick Annotator (QA)** é treinado e refinado com correções, é possível baixar as máscaras das imagens sem a necessidades que conferir a corretude das anotações. \n",
    "\n",
    "Por ser um trabalho mecânico que espera o programa fazer a predição das regiões de interece (*ROI*) e então baixa a máscara, foi criado uma automação que espera a predição ser feita para baixar a imagem e ir para a próxima imagem.\n",
    "\n",
    "Existe um bug no programa que as vezes o estado da predição não progride e para \"destravar\" esse bug é preciso navegar de uma imagem para outra. Assim a automação espera um determinado tempo e, caso a predição não esteja pronta, faz esta navegação. Esse processo também e feito para que duas sejam carregadas ao mesmo tempo. Quando é identificado que a predição foi concluída a automação baixa a imagem, avança para a imagem seguinte duas vezes e por fim volta uma vez.\n",
    "\n",
    "### Estrutura do Código\n",
    "> 1. Conta quantas imagens tem na pasta destino\n",
    "> 2. Baixa a máscara da imagem caso a flag que indica a predição esteja verde e avança para as próximas imagens.\n",
    "> 3. Caso contrário espera a flag ficar verde.\n",
    "> 4. Se a flag não ficar verde depois de 1 min avança para a próxima imagem e retorna para a imagem anterior.\n",
    "> 5. Repete esse processo tantas vezes quantas imagens foram contadas na pasta.\n",
    "\n",
    "**Obs:** para que a automação funcione é necessário alterar algumas configurações do navegador: mudar a forma de Download para 'Perguntar onde salvar cada arquivo antes de fazer download' e é necessário fazer o downloas manual da primeira predição."
   ]
  },
  {
   "cell_type": "markdown",
   "id": "6e2e6ec0",
   "metadata": {},
   "source": [
    "### Importando Biblíotecas necessárias"
   ]
  },
  {
   "cell_type": "code",
   "execution_count": 1,
   "id": "49ff5ccc",
   "metadata": {},
   "outputs": [],
   "source": [
    "from selenium import webdriver\n",
    "from webdriver_manager.chrome import ChromeDriverManager\n",
    "from selenium.webdriver.chrome.service import Service\n",
    "from selenium.webdriver.support.wait import WebDriverWait\n",
    "from selenium.common.exceptions import NoSuchElementException\n",
    "import pyautogui\n",
    "import time\n",
    "import os"
   ]
  },
  {
   "cell_type": "markdown",
   "id": "7afa3cd3",
   "metadata": {},
   "source": [
    "### Drive do navegador"
   ]
  },
  {
   "cell_type": "code",
   "execution_count": 2,
   "id": "2214d742",
   "metadata": {},
   "outputs": [
    {
     "name": "stderr",
     "output_type": "stream",
     "text": [
      "[WDM] - Downloading: 100%|█████████████████████████████████████████████████████| 6.79M/6.79M [00:02<00:00, 3.33MB/s]\n"
     ]
    }
   ],
   "source": [
    "# Utiliza sempre o drive mais novo\n",
    "service = Service(ChromeDriverManager().install())\n",
    "browser = webdriver.Chrome(service=service)"
   ]
  },
  {
   "cell_type": "markdown",
   "id": "190ee2b4",
   "metadata": {},
   "source": [
    "### Automação"
   ]
  },
  {
   "cell_type": "code",
   "execution_count": 3,
   "id": "8abf3b19",
   "metadata": {},
   "outputs": [],
   "source": [
    "# Coloque aqui o edereço do link da primeira imagem\n",
    "browser.get('http://localhost:5555/GasHis%20Annotation/2017-06-10_15.51.33.ndpi.16.31268_27437.2048x2048.png/annotation')"
   ]
  },
  {
   "cell_type": "markdown",
   "id": "a0acea30",
   "metadata": {},
   "source": [
    "O **xPath** é um *label* utilizado para encontrar o elemento de uma página. Para encontra-lo pode-se seguir o tutorial presente neste [link](https://escoladedados.org/tutoriais/xpath-para-raspagem-de-dados-em-html/#:~:text=O%20modo%20mais%20r%C3%A1pido%20de,a%20op%C3%A7%C3%A3o%20'Copiar%20XPath'.)."
   ]
  },
  {
   "cell_type": "code",
   "execution_count": 4,
   "id": "86abad37",
   "metadata": {},
   "outputs": [],
   "source": [
    "# xPaths\n",
    "prediction_flag = '//*[@id=\"prediction-dot\"]'\n",
    "image_name = '//*[@id=\"image_name\"]/text()'\n",
    "download_bt = '//*[@id=\"title\"]/div/div[1]/ul[1]/li[2]/a'\n",
    "dl_results_bt = '//*[@id=\"title\"]/div/div[1]/ul[1]/li[2]/ul/li[2]'\n",
    "next_img_bt = '//*[@id=\"title\"]/div/div[1]/ul[1]/li[4]/a'\n",
    "previous_img_bt = '//*[@id=\"title\"]/div/div[1]/ul[1]/li[3]/a'"
   ]
  },
  {
   "cell_type": "code",
   "execution_count": 5,
   "id": "e6922ede",
   "metadata": {},
   "outputs": [],
   "source": [
    "# Navega para a próxima página e volta para página anterior\n",
    "def next_and_previous(browser):\n",
    "    url = browser.current_url # pega o url da página atual\n",
    "    browser.get(url) # carrega página atual\n",
    "    time.sleep(10)\n",
    "    \n",
    "    # avança mais uma imagem para carregar duas imagens\n",
    "    browser.find_element('xpath', next_img_bt).click() # Next Image\n",
    "    time.sleep(1)\n",
    "     \n",
    "    # verifica pop de mensagem de erro\n",
    "    try:\n",
    "    #identify element\n",
    "        erro_msg = browser.find_element('class name','bootstrap-dialog-title').text\n",
    "        while erro_msg == 'Error Message':\n",
    "            pyautogui.click(2238, 612)\n",
    "            erro_msg = browser.find_element('class name','bootstrap-dialog-title').text\n",
    "    #NoSuchElementException thrown if not present\n",
    "    except NoSuchElementException:\n",
    "        print(\"Element does not exist\")\n",
    "\n",
    "    url = browser.current_url # pega o url da página atual\n",
    "    browser.get(url) # carrega página atual\n",
    "    time.sleep(10)\n",
    "    \n",
    "    # volta para imagem anterior\n",
    "    browser.find_element('xpath', previous_img_bt).click() # Previous Image\n",
    "    time.sleep(1)"
   ]
  },
  {
   "cell_type": "code",
   "execution_count": 8,
   "id": "c677f755",
   "metadata": {
    "scrolled": true
   },
   "outputs": [
    {
     "name": "stdout",
     "output_type": "stream",
     "text": [
      "0 - 2017-06-10_18.47.26.ndpi.17.48562_18196.2048x2048.png\n",
      "Element does not exist\n",
      "1 - 2017-06-10_18.59.38.ndpi.16.41035_17206.2048x2048.png\n",
      "Element does not exist\n",
      "2 - 2017-06-10_18.59.38.ndpi.16.40056_19511.2048x2048.png\n",
      "Element does not exist\n",
      "3 - 2017-06-10_18.59.38.ndpi.16.46298_13385.2048x2048.png\n",
      "Element does not exist\n",
      "4 - 2017-06-10_18.59.38.ndpi.16.43201_17445.2048x2048.png\n",
      "Element does not exist\n",
      "5 - 2017-06-10_18.59.38.ndpi.16.48632_14875.2048x2048.png\n",
      "Element does not exist\n",
      "6 - 2017-06-10_18.59.38.ndpi.16.46947_18595.2048x2048.png\n",
      "Element does not exist\n",
      "7 - 2017-06-10_19.10.40.ndpi.17.34532_24240.2048x2048.png\n",
      "Element does not exist\n",
      "8 - 2017-06-10_19.10.40.ndpi.17.33157_21760.2048x2048.png\n",
      "Element does not exist\n",
      "9 - 2017-06-10_19.10.40.ndpi.17.39735_27290.2048x2048.png\n",
      "Element does not exist\n",
      "10 - 2017-06-10_19.10.40.ndpi.17.37021_33891.2048x2048.png\n",
      "Element does not exist\n",
      "11 - 2017-06-10_19.33.20.ndpi.17.30321_17309.2048x2048.png\n",
      "Element does not exist\n",
      "12 - 2017-06-10_19.33.20.ndpi.17.54287_18577.2048x2048.png\n",
      "Element does not exist\n",
      "13 - 2017-06-10_19.46.43.ndpi.16.28683_11598.2048x2048.png\n",
      "Element does not exist\n",
      "14 - 2017-06-10_19.46.43.ndpi.16.46385_15288.2048x2048.png\n",
      "Element does not exist\n",
      "15 - 2017-06-10_19.59.55.ndpi.17.28610_37213.2048x2048.png\n",
      "Element does not exist\n",
      "16 - 2017-06-10_19.59.55.ndpi.17.41499_37711.2048x2048.png\n",
      "Element does not exist\n",
      "17 - 2017-06-10_20.15.16.ndpi.17.61718_21091.2048x2048.png\n",
      "Element does not exist\n",
      "Element does not exist\n",
      "Element does not exist\n",
      "Element does not exist\n",
      "18 - 2017-06-10_20.15.16.ndpi.17.58454_23321.2048x2048.png\n",
      "Element does not exist\n",
      "19 - 2017-06-10_20.19.55.ndpi.17.53043_26877.2048x2048.png\n",
      "Element does not exist\n",
      "20 - 2017-06-10_20.15.16.ndpi.17.62539_32520.2048x2048.png\n",
      "Element does not exist\n",
      "Element does not exist\n",
      "Element does not exist\n",
      "Element does not exist\n",
      "Element does not exist\n",
      "Element does not exist\n",
      "Element does not exist\n",
      "Element does not exist\n",
      "Element does not exist\n",
      "Element does not exist\n",
      "Element does not exist\n",
      "Element does not exist\n",
      "21 - 2017-06-10_20.43.00.ndpi.17.69278_11640.2048x2048.png\n"
     ]
    },
    {
     "ename": "FailSafeException",
     "evalue": "PyAutoGUI fail-safe triggered from mouse moving to a corner of the screen. To disable this fail-safe, set pyautogui.FAILSAFE to False. DISABLING FAIL-SAFE IS NOT RECOMMENDED.",
     "output_type": "error",
     "traceback": [
      "\u001b[1;31m---------------------------------------------------------------------------\u001b[0m",
      "\u001b[1;31mFailSafeException\u001b[0m                         Traceback (most recent call last)",
      "\u001b[1;32m~\\AppData\\Local\\Temp\\ipykernel_22088\\4031123520.py\u001b[0m in \u001b[0;36m<module>\u001b[1;34m\u001b[0m\n\u001b[0;32m     50\u001b[0m     \u001b[1;31m# Alterar o nome do Downaload e clicar em salvar\u001b[0m\u001b[1;33m\u001b[0m\u001b[1;33m\u001b[0m\u001b[0m\n\u001b[0;32m     51\u001b[0m     \u001b[0mpyautogui\u001b[0m\u001b[1;33m.\u001b[0m\u001b[0mpress\u001b[0m\u001b[1;33m(\u001b[0m\u001b[1;34m'backspace'\u001b[0m\u001b[1;33m)\u001b[0m\u001b[1;33m\u001b[0m\u001b[1;33m\u001b[0m\u001b[0m\n\u001b[1;32m---> 52\u001b[1;33m     \u001b[0mpyautogui\u001b[0m\u001b[1;33m.\u001b[0m\u001b[0mwrite\u001b[0m\u001b[1;33m(\u001b[0m\u001b[0mdownload_name\u001b[0m\u001b[1;33m,\u001b[0m \u001b[0minterval\u001b[0m\u001b[1;33m=\u001b[0m\u001b[1;36m0.02\u001b[0m\u001b[1;33m)\u001b[0m\u001b[1;33m\u001b[0m\u001b[1;33m\u001b[0m\u001b[0m\n\u001b[0m\u001b[0;32m     53\u001b[0m     \u001b[0mpyautogui\u001b[0m\u001b[1;33m.\u001b[0m\u001b[0mpress\u001b[0m\u001b[1;33m(\u001b[0m\u001b[1;34m'enter'\u001b[0m\u001b[1;33m)\u001b[0m\u001b[1;33m\u001b[0m\u001b[1;33m\u001b[0m\u001b[0m\n\u001b[0;32m     54\u001b[0m     \u001b[0mtime\u001b[0m\u001b[1;33m.\u001b[0m\u001b[0msleep\u001b[0m\u001b[1;33m(\u001b[0m\u001b[1;36m5\u001b[0m\u001b[1;33m)\u001b[0m \u001b[1;31m# espera\u001b[0m\u001b[1;33m\u001b[0m\u001b[1;33m\u001b[0m\u001b[0m\n",
      "\u001b[1;32m~\\anaconda3\\lib\\site-packages\\pyautogui\\__init__.py\u001b[0m in \u001b[0;36mwrapper\u001b[1;34m(*args, **kwargs)\u001b[0m\n\u001b[0;32m    596\u001b[0m     \u001b[1;32mdef\u001b[0m \u001b[0mwrapper\u001b[0m\u001b[1;33m(\u001b[0m\u001b[1;33m*\u001b[0m\u001b[0margs\u001b[0m\u001b[1;33m,\u001b[0m \u001b[1;33m**\u001b[0m\u001b[0mkwargs\u001b[0m\u001b[1;33m)\u001b[0m\u001b[1;33m:\u001b[0m\u001b[1;33m\u001b[0m\u001b[1;33m\u001b[0m\u001b[0m\n\u001b[0;32m    597\u001b[0m         \u001b[0mfailSafeCheck\u001b[0m\u001b[1;33m(\u001b[0m\u001b[1;33m)\u001b[0m\u001b[1;33m\u001b[0m\u001b[1;33m\u001b[0m\u001b[0m\n\u001b[1;32m--> 598\u001b[1;33m         \u001b[0mreturnVal\u001b[0m \u001b[1;33m=\u001b[0m \u001b[0mwrappedFunction\u001b[0m\u001b[1;33m(\u001b[0m\u001b[1;33m*\u001b[0m\u001b[0margs\u001b[0m\u001b[1;33m,\u001b[0m \u001b[1;33m**\u001b[0m\u001b[0mkwargs\u001b[0m\u001b[1;33m)\u001b[0m\u001b[1;33m\u001b[0m\u001b[1;33m\u001b[0m\u001b[0m\n\u001b[0m\u001b[0;32m    599\u001b[0m         \u001b[0m_handlePause\u001b[0m\u001b[1;33m(\u001b[0m\u001b[0mkwargs\u001b[0m\u001b[1;33m.\u001b[0m\u001b[0mget\u001b[0m\u001b[1;33m(\u001b[0m\u001b[1;34m\"_pause\"\u001b[0m\u001b[1;33m,\u001b[0m \u001b[1;32mTrue\u001b[0m\u001b[1;33m)\u001b[0m\u001b[1;33m)\u001b[0m\u001b[1;33m\u001b[0m\u001b[1;33m\u001b[0m\u001b[0m\n\u001b[0;32m    600\u001b[0m         \u001b[1;32mreturn\u001b[0m \u001b[0mreturnVal\u001b[0m\u001b[1;33m\u001b[0m\u001b[1;33m\u001b[0m\u001b[0m\n",
      "\u001b[1;32m~\\anaconda3\\lib\\site-packages\\pyautogui\\__init__.py\u001b[0m in \u001b[0;36mtypewrite\u001b[1;34m(message, interval, logScreenshot, _pause)\u001b[0m\n\u001b[0;32m   1680\u001b[0m         \u001b[0mpress\u001b[0m\u001b[1;33m(\u001b[0m\u001b[0mc\u001b[0m\u001b[1;33m,\u001b[0m \u001b[0m_pause\u001b[0m\u001b[1;33m=\u001b[0m\u001b[1;32mFalse\u001b[0m\u001b[1;33m)\u001b[0m\u001b[1;33m\u001b[0m\u001b[1;33m\u001b[0m\u001b[0m\n\u001b[0;32m   1681\u001b[0m         \u001b[0mtime\u001b[0m\u001b[1;33m.\u001b[0m\u001b[0msleep\u001b[0m\u001b[1;33m(\u001b[0m\u001b[0minterval\u001b[0m\u001b[1;33m)\u001b[0m\u001b[1;33m\u001b[0m\u001b[1;33m\u001b[0m\u001b[0m\n\u001b[1;32m-> 1682\u001b[1;33m         \u001b[0mfailSafeCheck\u001b[0m\u001b[1;33m(\u001b[0m\u001b[1;33m)\u001b[0m\u001b[1;33m\u001b[0m\u001b[1;33m\u001b[0m\u001b[0m\n\u001b[0m\u001b[0;32m   1683\u001b[0m \u001b[1;33m\u001b[0m\u001b[0m\n\u001b[0;32m   1684\u001b[0m \u001b[1;33m\u001b[0m\u001b[0m\n",
      "\u001b[1;32m~\\anaconda3\\lib\\site-packages\\pyautogui\\__init__.py\u001b[0m in \u001b[0;36mfailSafeCheck\u001b[1;34m()\u001b[0m\n\u001b[0;32m   1720\u001b[0m \u001b[1;32mdef\u001b[0m \u001b[0mfailSafeCheck\u001b[0m\u001b[1;33m(\u001b[0m\u001b[1;33m)\u001b[0m\u001b[1;33m:\u001b[0m\u001b[1;33m\u001b[0m\u001b[1;33m\u001b[0m\u001b[0m\n\u001b[0;32m   1721\u001b[0m     \u001b[1;32mif\u001b[0m \u001b[0mFAILSAFE\u001b[0m \u001b[1;32mand\u001b[0m \u001b[0mtuple\u001b[0m\u001b[1;33m(\u001b[0m\u001b[0mposition\u001b[0m\u001b[1;33m(\u001b[0m\u001b[1;33m)\u001b[0m\u001b[1;33m)\u001b[0m \u001b[1;32min\u001b[0m \u001b[0mFAILSAFE_POINTS\u001b[0m\u001b[1;33m:\u001b[0m\u001b[1;33m\u001b[0m\u001b[1;33m\u001b[0m\u001b[0m\n\u001b[1;32m-> 1722\u001b[1;33m         raise FailSafeException(\n\u001b[0m\u001b[0;32m   1723\u001b[0m             \u001b[1;34m\"PyAutoGUI fail-safe triggered from mouse moving to a corner of the screen. To disable this fail-safe, set pyautogui.FAILSAFE to False. DISABLING FAIL-SAFE IS NOT RECOMMENDED.\"\u001b[0m\u001b[1;33m\u001b[0m\u001b[1;33m\u001b[0m\u001b[0m\n\u001b[0;32m   1724\u001b[0m         )\n",
      "\u001b[1;31mFailSafeException\u001b[0m: PyAutoGUI fail-safe triggered from mouse moving to a corner of the screen. To disable this fail-safe, set pyautogui.FAILSAFE to False. DISABLING FAIL-SAFE IS NOT RECOMMENDED."
     ]
    }
   ],
   "source": [
    "# Aperta o ALT+TAB (necessário somente ao abrir o navegador)\n",
    "pyautogui.hotkey('alt','tab')\n",
    "\n",
    "# Conta quantas imagens existem na pasta\n",
    "path = r\"C:\\Users\\IA\\Pictures\\Datasets\\GasHis\\cancer_Sub_Ori_train2\"\n",
    "n_img = len(os.listdir(path))\n",
    "\n",
    "# Verifica predição, Download mascara e navegação\n",
    "for i in range(n_img-31):\n",
    "    \n",
    "    element = browser.find_element('xpath', prediction_flag)\n",
    "    prediction = element.value_of_css_property('background-color')   \n",
    "    time.sleep(2)\n",
    "\n",
    "    count = 0\n",
    "    \n",
    "    # Verifica se a flag prediction ficou verde   \n",
    "    while (prediction != 'rgba(0, 255, 0, 1)'): \n",
    "        count += 1\n",
    "        \n",
    "        url = browser.current_url # pega o url da página atual\n",
    "        browser.get(url) # carrega página atual\n",
    "        time.sleep(20)\n",
    "        \n",
    "        element = browser.find_element('xpath', prediction_flag)\n",
    "        prediction = element.value_of_css_property('background-color')\n",
    "        \n",
    "        # a cada 1 min vai para próxima imagem e retorna (tratamento do bug)\n",
    "        if ((count > 3) & (prediction != 'rgba(0, 255, 0, 1)')):\n",
    "            time.sleep(2)\n",
    "            next_and_previous(browser)\n",
    "            count = 0\n",
    "        \n",
    "        \n",
    "    # FAZER DOWNLOAD DA IMAGEM\n",
    "\n",
    "    # Clicar nos botões\n",
    "    browser.find_element('xpath', download_bt).click() # Download\n",
    "    browser.implicitly_wait(1) # espera \n",
    "\n",
    "    browser.find_element('xpath', dl_results_bt).click() # DL Result\n",
    "    browser.implicitly_wait(2) # espera \n",
    "\n",
    "    # Nome do Download\n",
    "    download_name = browser.find_element('id', 'image_name').text\n",
    "    print(f'{i} - {download_name}')\n",
    "    download_name = download_name[:-4] + '_mask.png'\n",
    "    time.sleep(5) # espera \n",
    "\n",
    "    # Alterar o nome do Downaload e salvar imagem\n",
    "    pyautogui.press('backspace')\n",
    "    pyautogui.write(download_name, interval=0.02)\n",
    "    pyautogui.press('enter')\n",
    "    time.sleep(5) # espera \n",
    "\n",
    "    # CARREGAR PRÓXIMAS IMAGENS\n",
    "\n",
    "    # vai para a próxima imagem\n",
    "    browser.find_element('xpath', next_img_bt).click() # Next Image\n",
    "    time.sleep(1)\n",
    "\n",
    "    next_and_previous(browser)\n",
    "    \n",
    "    url = browser.current_url # pega o url da página atual\n",
    "    browser.get(url) # carrega página atual\n",
    "    time.sleep(10)\n"
   ]
  },
  {
   "cell_type": "markdown",
   "id": "7385b5ba",
   "metadata": {},
   "source": [
    "O script abaixo faz o download apenas de uma imagem com o nome especificado na variável `img_name`."
   ]
  },
  {
   "cell_type": "code",
   "execution_count": 6,
   "id": "604ddb64",
   "metadata": {},
   "outputs": [
    {
     "name": "stdout",
     "output_type": "stream",
     "text": [
      "2017-06-10_15.51.33.ndpi.16.31268_27437.2048x2048.png\n"
     ]
    }
   ],
   "source": [
    "## FAZER DOWNLOAD DA IMAGEM\n",
    "img_name = '2017-06-10_15.51.33.ndpi.16.31268_27437.2048x2048' + '.png'\n",
    "url = 'http://localhost:5555/GasHis%20Annotation/' + img_name + '/annotation'\n",
    "browser.get(url)\n",
    "\n",
    "\n",
    "# Clicar nos botões\n",
    "browser.find_element('xpath', download_bt).click() # Download\n",
    "browser.implicitly_wait(1) # espera \n",
    "\n",
    "browser.find_element('xpath', dl_results_bt).click() # DL Resu\n",
    "browser.implicitly_wait(2) # espera \n",
    "\n",
    "# Nome do Download\n",
    "download_name = browser.find_element('id', 'image_name').text\n",
    "print(download_name)\n",
    "download_name = download_name[:-4] + '_mask.png'\n",
    "\n",
    "# Alterar o nome do Downaload e clicar em salvar\n",
    "pyautogui.press('backspace')\n",
    "time.sleep(3) # espera \n",
    "pyautogui.write(download_name, interval=0.02)\n",
    "pyautogui.press('enter')\n",
    "browser.implicitly_wait(5) # espera "
   ]
  },
  {
   "cell_type": "code",
   "execution_count": 12,
   "id": "69effa97",
   "metadata": {},
   "outputs": [
    {
     "data": {
      "text/plain": [
       "Point(x=2238, y=612)"
      ]
     },
     "execution_count": 12,
     "metadata": {},
     "output_type": "execute_result"
    }
   ],
   "source": [
    "# pegar a posição do botão da mensagem de erro\n",
    "time.sleep(3)\n",
    "pyautogui.position()"
   ]
  },
  {
   "cell_type": "code",
   "execution_count": null,
   "id": "30c7cac7",
   "metadata": {},
   "outputs": [],
   "source": []
  }
 ],
 "metadata": {
  "kernelspec": {
   "display_name": "Python 3 (ipykernel)",
   "language": "python",
   "name": "python3"
  },
  "language_info": {
   "codemirror_mode": {
    "name": "ipython",
    "version": 3
   },
   "file_extension": ".py",
   "mimetype": "text/x-python",
   "name": "python",
   "nbconvert_exporter": "python",
   "pygments_lexer": "ipython3",
   "version": "3.9.13"
  }
 },
 "nbformat": 4,
 "nbformat_minor": 5
}
