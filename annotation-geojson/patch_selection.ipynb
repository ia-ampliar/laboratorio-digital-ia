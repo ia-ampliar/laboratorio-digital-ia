{
 "cells": [
  {
   "cell_type": "code",
   "execution_count": 1,
   "id": "abd619a4",
   "metadata": {},
   "outputs": [],
   "source": [
    "from patchify import patchify\n",
    "import tensorflow as tf\n",
    "import numpy as np\n",
    "from PIL import Image, ImageOps\n",
    "from skimage.transform import resize\n",
    "import os\n",
    "from tensorflow.keras.models import load_model, Model\n",
    "from tqdm import tqdm\n",
    "import cv2 as cv\n",
    "import shutil"
   ]
  },
  {
   "cell_type": "code",
   "execution_count": 2,
   "id": "dd12a552",
   "metadata": {},
   "outputs": [],
   "source": [
    "input_path = r\"C:\\Users\\IA\\Documents\\Python Scripts\\Image to Split\\images\"\n",
    "output_path = r\"C:\\Users\\IA\\Documents\\Python Scripts\\Image to Split\\patches\\\\\"\n",
    "model_path = r\"..\\model\\\\sinete_model_2.h5\"\n",
    "patch_shape = (256,256,3)\n",
    "num = 0\n",
    "\n",
    "model = load_model(model_path)"
   ]
  },
  {
   "cell_type": "code",
   "execution_count": 3,
   "id": "ddf53308",
   "metadata": {},
   "outputs": [],
   "source": [
    "def is_not_white(image):\n",
    "\n",
    "    mean_pxl = np.mean(image)\n",
    "    \n",
    "    if mean_pxl < 230:\n",
    "        return True\n",
    "    else:\n",
    "        return False"
   ]
  },
  {
   "cell_type": "code",
   "execution_count": 4,
   "id": "7f495e4e",
   "metadata": {},
   "outputs": [],
   "source": [
    "def get_img_array(img_path, size):\n",
    "\n",
    "    img = tf.keras.utils.load_img(img_path, target_size=size)\n",
    "    \n",
    "    array = tf.keras.utils.img_to_array(img)\n",
    "    \n",
    "    array = np.expand_dims(array, axis=0)\n",
    "    return array"
   ]
  },
  {
   "cell_type": "code",
   "execution_count": 6,
   "id": "f69bea0f",
   "metadata": {
    "tags": []
   },
   "outputs": [
    {
     "name": "stderr",
     "output_type": "stream",
     "text": [
      "100%|██████████████████████████████████████████████████████████████████████████████████| 63/63 [05:58<00:00,  5.69s/it]\n",
      "100%|██████████████████████████████████████████████████████████████████████████████████| 63/63 [06:21<00:00,  6.06s/it]\n",
      "100%|██████████████████████████████████████████████████████████████████████████████████| 63/63 [08:18<00:00,  7.91s/it]\n",
      "100%|██████████████████████████████████████████████████████████████████████████████████| 63/63 [06:15<00:00,  5.96s/it]\n"
     ]
    }
   ],
   "source": [
    "n_img = 0\n",
    "for file in os.listdir(input_path):\n",
    "    \n",
    "    # Caminho da imagem\n",
    "    file_path = os.path.join(input_path, file)\n",
    "    # Abre a imagem\n",
    "    #image = Image.open(file_path)\n",
    "    image = tf.keras.utils.load_img(file_path)\n",
    "    # Transforma em array\n",
    "    image = np.asarray(image)\n",
    "    \n",
    "    # Extrai os patches da imagem com sobreposição de 50%\n",
    "    patches = patchify(image, patch_shape, 128)\n",
    "    \n",
    "    # Extrai apenas imagens classificadas como anel de sinete\n",
    "    for i in tqdm(range(patches.shape[0])):\n",
    "        for j in range(patches.shape[1]):\n",
    "            n_img += 1\n",
    "            \n",
    "            # Carrega patch (256, 256, 3)\n",
    "            patch = patches[i, j, 0]\n",
    "            \n",
    "            # Verifica se o patch não é uma imagem majoritariamente branca\n",
    "            if is_not_white(patch):\n",
    "                # Transforma de array para imagem\n",
    "                img = Image.fromarray(patch)\n",
    "                # Salva patch\n",
    "                patch_path = f\"{output_path}negativos\\patch_{n_img}.png\"\n",
    "                img.save(patch_path)\n",
    "                # Carrega imagem fazendo o resize (1, 224, 224, 3)\n",
    "                img_input = get_img_array(patch_path, size=(224,224))\n",
    "                \n",
    "                # Classifica imagem\n",
    "                pred = model.predict(img_input, verbose=0)\n",
    "                #print(f\"{n_img} - {round(pred[0][0]*100, 2)}%\")\n",
    "                \n",
    "                # Move a imagem se a predição for maior que 95%\n",
    "                if(pred[0][0] > 0.75):\n",
    "                    shutil.move(patch_path, f\"{output_path}patch_{n_img}.png\")"
   ]
  },
  {
   "cell_type": "code",
   "execution_count": null,
   "id": "cccf1c34",
   "metadata": {},
   "outputs": [],
   "source": []
  }
 ],
 "metadata": {
  "kernelspec": {
   "display_name": "Python [conda env:tf-gpu]",
   "language": "python",
   "name": "conda-env-tf-gpu-py"
  },
  "language_info": {
   "codemirror_mode": {
    "name": "ipython",
    "version": 3
   },
   "file_extension": ".py",
   "mimetype": "text/x-python",
   "name": "python",
   "nbconvert_exporter": "python",
   "pygments_lexer": "ipython3",
   "version": "3.10.0"
  }
 },
 "nbformat": 4,
 "nbformat_minor": 5
}
