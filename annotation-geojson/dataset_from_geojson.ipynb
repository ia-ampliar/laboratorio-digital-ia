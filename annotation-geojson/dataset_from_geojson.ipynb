{
 "cells": [
  {
   "cell_type": "markdown",
   "id": "b1e663a9",
   "metadata": {},
   "source": [
    "# Create a Dataset from  Geojeson Annotarion\n"
   ]
  },
  {
   "cell_type": "code",
   "execution_count": 12,
   "id": "95ae4062",
   "metadata": {
    "scrolled": true
   },
   "outputs": [],
   "source": [
    "import openslide\n",
    "import geopandas as gpd\n",
    "import numpy as np\n",
    "from PIL import Image\n",
    "\n",
    "import os\n",
    "import random\n",
    "import shutil"
   ]
  },
  {
   "cell_type": "code",
   "execution_count": 6,
   "id": "03958347",
   "metadata": {},
   "outputs": [],
   "source": [
    "# Lê o arquivo .svs\n",
    "image_path = r\"C:\\Users\\IA\\Pictures\\Datasets\\TCGA\\WSI\\Carcinoma diffuse\\CIN\\Gastric Antrum\\TCGA-BR-8291-01Z-00-DX1.a7e89a69-6d6d-4c43-b299-a618bd859170.svs\"\n",
    "slide = openslide.open_slide(image_path)\n",
    "\n",
    "# Lê o arquivo geojson\n",
    "tumor_annotation_path = r\"C:\\Users\\IA\\Documents\\QuPath\\Projects\\tumor_TCGA-BR-8291.geojson\"\n",
    "negative_annotation_path = r\"C:\\Users\\IA\\Documents\\QuPath\\Projects\\negative_TCGA-BR-8291.geojson\"\n",
    "\n",
    "tumor_gdf = gpd.read_file(tumor_annotation_path)\n",
    "negative_gdf = gpd.read_file(negative_annotation_path)\n",
    "\n",
    "# Define o tamanho do patch\n",
    "patch_size = 224"
   ]
  },
  {
   "cell_type": "code",
   "execution_count": 7,
   "id": "7189f917",
   "metadata": {},
   "outputs": [],
   "source": [
    "def create_patches(gdf, slide, patch_size, class_name):\n",
    "    # Loop por todas as geometrias (polígonos) no arquivo geojson\n",
    "    for i, row in gdf.iterrows():\n",
    "        # Converte a geometria para uma lista de coordenadas\n",
    "        coords = row[\"geometry\"].exterior.coords.xy\n",
    "\n",
    "        # Calcula o centro da geometria\n",
    "        x = int(np.mean(coords[0]))\n",
    "        y = int(np.mean(coords[1]))\n",
    "\n",
    "        # Extrai o patch da imagem\n",
    "        patch = np.array(slide.read_region((x, y), 0, (patch_size, patch_size)))\n",
    "\n",
    "        # Salva o patch como um arquivo PNG\n",
    "        folder_path = r\"C:\\Users\\IA\\Documents\\QuPath\\Projects\\\\\" + class_name + \"\\\\\"\n",
    "        patch_name = f\"patch_{x}_{y}.png\"\n",
    "        Image.fromarray(patch).save(folder_path + patch_name)"
   ]
  },
  {
   "cell_type": "code",
   "execution_count": 9,
   "id": "7945e6b3",
   "metadata": {
    "scrolled": true
   },
   "outputs": [],
   "source": [
    "# create_patches(tumor_gdf, slide, patch_size, \"tumor\")\n",
    "# create_patches(negative_gdf, slide, patch_size, \"negative\")\n",
    "create_patches(sinete_gdf, slide, patch_size, \"sinete\")"
   ]
  },
  {
   "cell_type": "code",
   "execution_count": 27,
   "id": "7f962967",
   "metadata": {},
   "outputs": [],
   "source": [
    "# O nome da pasta com as imagens\n",
    "src_folder_com_anel = r\"C:\\Users\\IA\\Documents\\QuPath\\Projects\\tumor\"\n",
    "src_folder_sem_anel = r\"C:\\Users\\IA\\Documents\\QuPath\\Projects\\negative\"\n",
    "\n",
    "train_com_anel = r\"C:\\Users\\IA\\Documents\\Python Scripts\\Image to Split\\ml-dataset-sinet-ring\\train\\com anel\"\n",
    "train_sem_anel = r\"C:\\Users\\IA\\Documents\\Python Scripts\\Image to Split\\ml-dataset-sinet-ring\\train\\sem anel\" \n",
    "\n",
    "val_com_anel = r\"C:\\Users\\IA\\Documents\\Python Scripts\\Image to Split\\ml-dataset-sinet-ring\\val\\com anel\"\n",
    "val_sem_anel = r\"C:\\Users\\IA\\Documents\\Python Scripts\\Image to Split\\ml-dataset-sinet-ring\\val\\sem anel\"\n",
    "\n",
    "test_com_anel = r\"C:\\Users\\IA\\Documents\\Python Scripts\\Image to Split\\ml-dataset-sinet-ring\\test\\com anel\"\n",
    "test_sem_anel = r\"C:\\Users\\IA\\Documents\\Python Scripts\\Image to Split\\ml-dataset-sinet-ring\\test\\sem anel\"\n",
    "\n",
    "# Rotações\n",
    "rotations = [Image.ROTATE_90, Image.ROTATE_180]\n",
    "\n",
    "# Inversões\n",
    "inversions = [Image.FLIP_LEFT_RIGHT, Image.FLIP_TOP_BOTTOM]"
   ]
  },
  {
   "cell_type": "code",
   "execution_count": 29,
   "id": "5c07514e",
   "metadata": {},
   "outputs": [
    {
     "name": "stdout",
     "output_type": "stream",
     "text": [
      "1922 imagens com anel de sinete\n",
      "1922 imagens sem anel de sinete\n"
     ]
    }
   ],
   "source": [
    "file_list_com = os.listdir(src_folder_com_anel)\n",
    "print(f\"{len(file_list_com)} imagens com anel de sinete\")\n",
    "file_list_sem = os.listdir(src_folder_sem_anel)\n",
    "print(f\"{len(file_list_sem)} imagens sem anel de sinete\")"
   ]
  },
  {
   "cell_type": "code",
   "execution_count": 30,
   "id": "b5e288c8",
   "metadata": {},
   "outputs": [],
   "source": [
    "def move_files(files_list, src, dst):\n",
    "    \n",
    "    for file in files_list:\n",
    "        src_path = os.path.join(src,file) # Caminho do arquivo na origem\n",
    "        dst_path = os.path.join(dst,file) # Caminho do arquivo na origem\n",
    "        shutil.copy2(src_path, dst_path)  # Copía"
   ]
  },
  {
   "cell_type": "markdown",
   "id": "faa27291",
   "metadata": {},
   "source": [
    "### Sem anel de sinete"
   ]
  },
  {
   "cell_type": "code",
   "execution_count": 31,
   "id": "ad28971e",
   "metadata": {},
   "outputs": [
    {
     "name": "stdout",
     "output_type": "stream",
     "text": [
      "Sem anel de sinete\n",
      "Validação: 192 imagens copiadas\n"
     ]
    }
   ],
   "source": [
    "# Para imagens sem anel de sinete\n",
    "print(\"Sem anel de sinete\")\n",
    "\n",
    "# Quantidade de imagens a serem escolhidos\n",
    "n = int( len(file_list_sem)*0.10 )\n",
    "\n",
    "# Move 10% dos arquivos para validação\n",
    "selected_files = random.sample(file_list_sem, n)              # Escolhe n imagens aleatórias da lista\n",
    "move_files(selected_files, src_folder_sem_anel, val_sem_anel) # Copía imagens\n",
    "print(f\"Validação: {n} imagens copiadas\")"
   ]
  },
  {
   "cell_type": "code",
   "execution_count": 32,
   "id": "2f29d2d6",
   "metadata": {},
   "outputs": [
    {
     "name": "stdout",
     "output_type": "stream",
     "text": [
      "Teste: 192 imagens copiadas\n"
     ]
    }
   ],
   "source": [
    "# Move 10% dos arquivos para teste\n",
    "files_test = [x for x in file_list_sem if x not in selected_files] # Remove da lista imagens usadas para validação\n",
    "selected_files = random.sample(files_test, n)                                        \n",
    "move_files(selected_files, src_folder_sem_anel, test_sem_anel)     \n",
    "print(f\"Teste: {n} imagens copiadas\")"
   ]
  },
  {
   "cell_type": "code",
   "execution_count": 33,
   "id": "fb7ffa56",
   "metadata": {},
   "outputs": [
    {
     "name": "stdout",
     "output_type": "stream",
     "text": [
      "Treino: restante das imagens copiadas\n"
     ]
    }
   ],
   "source": [
    "# Move o restante das imagens para treino\n",
    "files_train = [x for x in files_test if x not in selected_files] \n",
    "move_files(files_train, src_folder_sem_anel, train_sem_anel)     \n",
    "print(\"Treino: restante das imagens copiadas\")"
   ]
  },
  {
   "cell_type": "markdown",
   "id": "c1701baa",
   "metadata": {},
   "source": [
    "### Com anel de sinete"
   ]
  },
  {
   "cell_type": "code",
   "execution_count": 34,
   "id": "0abd0f8c",
   "metadata": {},
   "outputs": [
    {
     "name": "stdout",
     "output_type": "stream",
     "text": [
      "Com anel de sinete\n",
      "Validação: 192 imagens copiadas\n"
     ]
    }
   ],
   "source": [
    "# Para imagens com anel de sinete\n",
    "print(\"Com anel de sinete\")\n",
    "\n",
    "# Move a mesma quantidade de imagens sem anel para validação\n",
    "selected_files = random.sample(file_list_com, n)           \n",
    "move_files(selected_files, src_folder_com_anel, val_com_anel)\n",
    "print(f\"Validação: {n} imagens copiadas\")   "
   ]
  },
  {
   "cell_type": "code",
   "execution_count": 35,
   "id": "d87d76d7",
   "metadata": {},
   "outputs": [
    {
     "name": "stdout",
     "output_type": "stream",
     "text": [
      "Validação: 192 imagens copiadas\n"
     ]
    }
   ],
   "source": [
    "# Move a mesma quantidade de imagens sem anel para teste\n",
    "files_test = [x for x in file_list_com if x not in selected_files] \n",
    "selected_files = random.sample(files_test, n)              \n",
    "move_files(selected_files, src_folder_com_anel, test_com_anel) \n",
    "print(f\"Validação: {n} imagens copiadas\")  "
   ]
  },
  {
   "cell_type": "code",
   "execution_count": 36,
   "id": "e8d1710a",
   "metadata": {},
   "outputs": [
    {
     "name": "stdout",
     "output_type": "stream",
     "text": [
      "Validação: restante das imagens copiadas\n"
     ]
    }
   ],
   "source": [
    "# Move o restante das imagens para treino\n",
    "files_train = [x for x in files_test if x not in selected_files] \n",
    "move_files(files_train, src_folder_com_anel, train_com_anel)\n",
    "print(f\"Validação: restante das imagens copiadas\")     "
   ]
  },
  {
   "cell_type": "code",
   "execution_count": 37,
   "id": "7d35d4f5",
   "metadata": {},
   "outputs": [],
   "source": [
    "def augmentation(selected_files, folder, rotations, inversions):\n",
    "    # Loop por todas as imagens na pasta\n",
    "    for filename in selected_files:\n",
    "        # Verifique se o arquivo é uma imagem\n",
    "        if filename.endswith(\".png\"):\n",
    "            # Carregue a imagem\n",
    "            image = Image.open(os.path.join(folder, filename))\n",
    "\n",
    "            # Loop por todas as rotações\n",
    "            for rotation in rotations:\n",
    "                rotated_image = image.transpose(rotation)\n",
    "                rotated_filename = f\"{os.path.splitext(filename)[0]}_{rotation}.png\"\n",
    "                rotated_image.save(os.path.join(folder, rotated_filename))\n",
    "\n",
    "            # Loop por todas as inversões\n",
    "            if len(inversions) != 0:     \n",
    "                for inversion in inversions:\n",
    "                    inverted_image = image.transpose(inversion)\n",
    "                    inverted_filename = f\"{os.path.splitext(filename)[0]}_{inversion}.png\"\n",
    "                    inverted_image.save(os.path.join(folder, inverted_filename))"
   ]
  },
  {
   "cell_type": "code",
   "execution_count": 39,
   "id": "f62ee717",
   "metadata": {},
   "outputs": [],
   "source": [
    "# Faz o data augmentation nas imagens de treino sem anel de sinete\n",
    "# selected_files = os.listdir(train_sem_anel)\n",
    "# augmentation(selected_files, train_sem_anel, rotations, inversions)\n",
    "\n",
    "# Faz o data augmentation nas imagens de treino com anel se sinete\n",
    "selected_files = os.listdir(train_com_anel)\n",
    "augmentation(selected_files, train_com_anel, rotations, inversions)"
   ]
  },
  {
   "cell_type": "code",
   "execution_count": null,
   "id": "6027cec6",
   "metadata": {},
   "outputs": [],
   "source": []
  }
 ],
 "metadata": {
  "kernelspec": {
   "display_name": "Python [conda env:tf-gpu]",
   "language": "python",
   "name": "conda-env-tf-gpu-py"
  },
  "language_info": {
   "codemirror_mode": {
    "name": "ipython",
    "version": 3
   },
   "file_extension": ".py",
   "mimetype": "text/x-python",
   "name": "python",
   "nbconvert_exporter": "python",
   "pygments_lexer": "ipython3",
   "version": "3.10.0"
  }
 },
 "nbformat": 4,
 "nbformat_minor": 5
}
